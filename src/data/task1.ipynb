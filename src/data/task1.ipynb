{
 "cells": [
  {
   "cell_type": "markdown",
   "metadata": {},
   "source": [
    "Vamos a pasar el .pkl a .csv para polars"
   ]
  },
  {
   "cell_type": "code",
   "execution_count": 1,
   "metadata": {},
   "outputs": [],
   "source": [
    "import polars as pl\n",
    "import pandas as pd"
   ]
  },
  {
   "cell_type": "code",
   "execution_count": 2,
   "metadata": {},
   "outputs": [],
   "source": [
    "schema = {\n",
    "    \"session_id\": pl.Int64,\n",
    "    \"date\": pl.Utf8,               # String en Polars se representa como Utf8\n",
    "    \"timestamp_local\": pl.Utf8,   # String -> Utf8\n",
    "    \"add_to_cart\": pl.Int64,\n",
    "    \"user_id\": pl.Float64,\n",
    "    \"country\": pl.Int64,\n",
    "    \"partnumber\": pl.Int32,\n",
    "    \"device_type\": pl.Int64,\n",
    "    \"pagetype\": pl.Float64\n",
    "}\n",
    "\n",
    "schema_clients = {\n",
    "    \"user_id\": pl.Float64,\n",
    "    \"country\": pl.Int64,\n",
    "    \"R\": pl.Int64,\n",
    "    \"F\": pl.Int64,\n",
    "    \"M\": pl.Float64\n",
    "}\n"
   ]
  },
  {
   "cell_type": "code",
   "execution_count": 3,
   "metadata": {},
   "outputs": [],
   "source": [
    "train = pl.read_csv(\"../../data/raw/train.csv\", schema=schema)\n",
    "clients = pl.read_csv(\"../../data/raw/users_data.csv\", schema=schema_clients)\n",
    "products_pandas = pd.read_pickle(\"../../data/raw/products.pkl\")\n",
    "products = pl.from_pandas(products_pandas)"
   ]
  },
  {
   "cell_type": "code",
   "execution_count": 3,
   "metadata": {},
   "outputs": [
    {
     "name": "stdout",
     "output_type": "stream",
     "text": [
      "Q1 Result: shape: (1, 1)\n",
      "┌────────────┐\n",
      "│ partnumber │\n",
      "│ ---        │\n",
      "│ i32        │\n",
      "╞════════════╡\n",
      "│ 17265      │\n",
      "└────────────┘\n"
     ]
    }
   ],
   "source": [
    "result_q1 = (\n",
    "    products\n",
    "    .filter((pl.col(\"color_id\") == 3) & (pl.col(\"discount\") == 1))\n",
    "    .sort(\"family\")\n",
    "    .select(\"partnumber\")\n",
    "    .head(1)\n",
    ")\n",
    "\n",
    "print(\"Q1 Result:\", result_q1)\n"
   ]
  },
  {
   "cell_type": "code",
   "execution_count": 4,
   "metadata": {},
   "outputs": [
    {
     "name": "stdout",
     "output_type": "stream",
     "text": [
      "Q2 Result: shape: (1, 1)\n",
      "┌─────────┐\n",
      "│ user_id │\n",
      "│ ---     │\n",
      "│ i64     │\n",
      "╞═════════╡\n",
      "│ 187374  │\n",
      "└─────────┘\n"
     ]
    }
   ],
   "source": [
    "# Filtrar usuarios con compras totales < 500 y contar cuántos hay en cada país\n",
    "filtered_clients = (\n",
    "    clients\n",
    "    .filter(pl.col(\"M\") < 500)  # Filtrar por compras < 500\n",
    "    .group_by(\"country\")  # Agrupar por país\n",
    "    .agg(pl.len().alias(\"count\"))  # Contar los usuarios por país\n",
    "    .sort(\"count\", descending=True)  # Ordenar por cantidad de usuarios\n",
    "    .select('country')\n",
    "    .head(1)\n",
    ")\n",
    "\n",
    "# País con más usuarios con compras < 500\n",
    "top_country = filtered_clients[\"country\"]\n",
    "\n",
    "# Filtrar usuarios en el país top y ordenar por F, R, y user_id\n",
    "result_q2 = (\n",
    "    clients\n",
    "    .filter(pl.col(\"country\") == top_country)  # Filtrar por el país top\n",
    "    .sort([\"F\", \"R\", \"user_id\"], descending=[False, True, False])  # Ordenar\n",
    "    .select('user_id')  # Obtener el primer usuario\n",
    "    .head(1)\n",
    ")\n",
    "\n",
    "print(\"Q2 Result:\", result_q2)"
   ]
  },
  {
   "cell_type": "code",
   "execution_count": 6,
   "metadata": {},
   "outputs": [
    {
     "name": "stdout",
     "output_type": "stream",
     "text": [
      "shape: (1, 1)\n",
      "┌─────────────────────┐\n",
      "│ visits_per_cart_add │\n",
      "│ ---                 │\n",
      "│ f64                 │\n",
      "╞═════════════════════╡\n",
      "│ 21.9                │\n",
      "└─────────────────────┘\n"
     ]
    }
   ],
   "source": [
    "# result_q3 = (\n",
    "#     train\n",
    "#     .filter(pl.col(\"add_to_cart\") == 1)  # Filtrar productos añadidos al carrito\n",
    "#     .group_by(\"partnumber\")\n",
    "#     .agg([\n",
    "#         pl.len().alias(\"total_visits\"),\n",
    "#         pl.sum(\"add_to_cart\").alias(\"cart_adds\"),\n",
    "#     ])\n",
    "#     #.with_columns((pl.col(\"total_visits\") / pl.col(\"cart_adds\")).alias(\"visits_per_cart_add\"))\n",
    "#     .select(pl.col(\"visits_per_cart_add\").mean().round(2))\n",
    "# )\n",
    "\n",
    "result_q3_filtered= (\n",
    "    train\n",
    "    .group_by('partnumber')  # Agrupar por 'partnumber'\n",
    "    .agg(pl.sum('add_to_cart').alias('cart_adds'))  # Sumar 'add_to_cart' para obtener 'cart_adds'\n",
    "    .filter(pl.col('cart_adds') > 1)  # Filtrar solo los productos con 'cart_adds' > 1\n",
    ")\n",
    "\n",
    "result_q3 = (\n",
    "    train\n",
    "    .filter(pl.col('partnumber').is_in(result_q3_filtered['partnumber']))\n",
    "    .group_by(\"partnumber\")\n",
    "    .agg([\n",
    "        pl.len().alias(\"total_visits\"),\n",
    "        pl.sum(\"add_to_cart\").alias(\"cart_adds\"),\n",
    "    ])\n",
    "    .with_columns((pl.col(\"total_visits\") / pl.col(\"cart_adds\")).alias(\"visits_per_cart_add\"))\n",
    "    .select(pl.col(\"visits_per_cart_add\").mean().round(2))\n",
    ")\n",
    "\n",
    "print(result_q3)\n",
    "\n"
   ]
  },
  {
   "cell_type": "code",
   "execution_count": 7,
   "metadata": {},
   "outputs": [
    {
     "name": "stdout",
     "output_type": "stream",
     "text": [
      "Q4 Result: shape: (1, 2)\n",
      "┌─────────────┬─────────────┐\n",
      "│ device_type ┆ usage_count │\n",
      "│ ---         ┆ ---         │\n",
      "│ i64         ┆ u32         │\n",
      "╞═════════════╪═════════════╡\n",
      "│ 1           ┆ 169439      │\n",
      "└─────────────┴─────────────┘\n"
     ]
    }
   ],
   "source": [
    "products_mini = products.select(['partnumber', 'discount'])\n",
    "train_concat = train.join(products_mini, on='partnumber', how='inner')\n",
    "\n",
    "result_q4 = (\n",
    "    train_concat\n",
    "    .filter((pl.col(\"add_to_cart\") == 1) & (pl.col(\"discount\") == 1))\n",
    "    .group_by(\"device_type\")\n",
    "    .agg(pl.len().alias(\"usage_count\"))  # Contar el número de filas para cada dispositivo\n",
    "    .sort(\"usage_count\", descending=True)  # Ordenar por la frecuencia de uso\n",
    "    .head(1)\n",
    ")\n",
    "\n",
    "print(\"Q4 Result:\", result_q4)\n"
   ]
  },
  {
   "cell_type": "code",
   "execution_count": null,
   "metadata": {},
   "outputs": [
    {
     "name": "stdout",
     "output_type": "stream",
     "text": [
      "Q5 Result: shape: (1, 2)\n",
      "┌─────────┬─────────────────────┐\n",
      "│ user_id ┆ unique_interactions │\n",
      "│ ---     ┆ ---                 │\n",
      "│ f64     ┆ u32                 │\n",
      "╞═════════╪═════════════════════╡\n",
      "│ 72153.0 ┆ 81                  │\n",
      "└─────────┴─────────────────────┘\n"
     ]
    }
   ],
   "source": [
    "# Paso 1: Filtrar los usuarios con las frecuencias de compra más altas dentro de su país\n",
    "top_3_frequency_users = (\n",
    "    clients\n",
    "    .sort([\"country\", \"F\"], descending=[False, True])  # Ordenar por país y frecuencia de compra\n",
    "    .group_by(\"country\")\n",
    "    .head(3)  # Seleccionar los 3 usuarios con mayor frecuencia dentro de su país\n",
    ")\n",
    "top_3_frequency_users\n",
    "\n",
    "# Paso 2: Filtrar por `device_type == 3` y contar las interacciones con productos\n",
    "result_q5 = (\n",
    "    train  # Supongo que 'sessions' contiene las interacciones de los usuarios\n",
    "    .filter(pl.col(\"user_id\").is_in(top_3_frequency_users[\"user_id\"]))  # Filtrar solo los usuarios del top 3\n",
    "    .filter(pl.col(\"device_type\") == 3)  # Filtrar por `device_type == 3`\n",
    "    .group_by(\"user_id\")  # Agrupar por usuario\n",
    "    .agg(pl.n_unique(\"partnumber\").alias(\"unique_interactions\"))  # Contar productos distintos\n",
    "    .sort(\"unique_interactions\", descending=True)  # Ordenar por interacciones más altas\n",
    "    .head(1)  # Seleccionar el usuario con más interacciones\n",
    ")\n",
    "\n",
    "# Resultado final\n",
    "print(\"Q5 Result:\", result_q5)\n"
   ]
  },
  {
   "cell_type": "code",
   "execution_count": null,
   "metadata": {},
   "outputs": [],
   "source": [
    "clients_mini = (\n",
    "    clients\n",
    "    .select([\n",
    "        pl.col('user_id'),\n",
    "        pl.col('country').alias('user_country')\n",
    "    ])\n",
    ")\n",
    "products_mini = products.select(['partnumber', 'family'])\n",
    "train_mini = train.select(['partnumber', 'country'])\n",
    "\n",
    "clients_concat = clients_mini.join(train, on='user_id', how='inner')\n",
    "clients_concat = clients_concat.join(products_mini, on='partnumber', how='inner')"
   ]
  },
  {
   "cell_type": "code",
   "execution_count": 5,
   "metadata": {},
   "outputs": [
    {
     "name": "stdout",
     "output_type": "stream",
     "text": [
      "Q6 Result: 116\n"
     ]
    }
   ],
   "source": [
    "result_q6 = (\n",
    "    clients_concat\n",
    "    .filter(pl.col(\"country\") != pl.col(\"user_country\"))  # Filtrar interacciones fuera del país del usuario\n",
    "    .select(\"family\")\n",
    "    .n_unique()\n",
    ")\n",
    "\n",
    "print(\"Q6 Result:\", result_q6)"
   ]
  },
  {
   "cell_type": "code",
   "execution_count": null,
   "metadata": {},
   "outputs": [],
   "source": [
    "from datetime import datetime\n",
    "\n",
    "# Filtrar interacciones de los primeros 7 días de junio\n",
    "result_q7 = (\n",
    "    train\n",
    "    .filter(\n",
    "        (pl.col(\"add_to_cart\") == 1) &\n",
    "        (pl.col(\"date\").str.strptime(pl.Date, fmt=\"%Y-%m-%d\") >= datetime(2023, 6, 1)) &\n",
    "        (pl.col(\"date\").str.strptime(pl.Date, fmt=\"%Y-%m-%d\") <= datetime(2023, 6, 7))\n",
    "    )\n",
    "    .groupby([\"family\", \"page_type\"])\n",
    "    .count()\n",
    "    .sort([\"family\", \"count\", \"page_type\"], descending=[False, True, False])\n",
    "    .groupby(\"family\")\n",
    "    .agg(pl.first(\"page_type\").alias(\"most_frequent_pagetype\"))\n",
    "    .to_dicts()\n",
    ")\n",
    "\n",
    "print(\"Q7 Result:\", result_q7)"
   ]
  }
 ],
 "metadata": {
  "kernelspec": {
   "display_name": "venv",
   "language": "python",
   "name": "python3"
  },
  "language_info": {
   "codemirror_mode": {
    "name": "ipython",
    "version": 3
   },
   "file_extension": ".py",
   "mimetype": "text/x-python",
   "name": "python",
   "nbconvert_exporter": "python",
   "pygments_lexer": "ipython3",
   "version": "3.12.3"
  }
 },
 "nbformat": 4,
 "nbformat_minor": 2
}
