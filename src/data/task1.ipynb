{
 "cells": [
  {
   "cell_type": "markdown",
   "metadata": {},
   "source": [
    "Vamos a pasar el .pkl a .csv para polars"
   ]
  },
  {
   "cell_type": "code",
   "execution_count": 24,
   "metadata": {},
   "outputs": [],
   "source": [
    "import polars as pl\n",
    "import pandas as pd\n",
    "\n",
    "train = pl.read_csv(\"../../data/raw/train.csv\")\n",
    "clients = pl.read_csv(\"../../data/raw/users_data.csv\")\n",
    "products_pandas = pd.read_pickle(\"../../data/raw/products.pkl\")\n",
    "products = pl.from_pandas(products_pandas)"
   ]
  },
  {
   "cell_type": "code",
   "execution_count": 7,
   "metadata": {},
   "outputs": [
    {
     "data": {
      "text/html": [
       "<div><style>\n",
       ".dataframe > thead > tr,\n",
       ".dataframe > tbody > tr {\n",
       "  text-align: right;\n",
       "  white-space: pre-wrap;\n",
       "}\n",
       "</style>\n",
       "<small>shape: (43_692, 6)</small><table border=\"1\" class=\"dataframe\"><thead><tr><th>discount</th><th>embedding</th><th>partnumber</th><th>color_id</th><th>cod_section</th><th>family</th></tr><tr><td>decimal[1,0]</td><td>list[f32]</td><td>i32</td><td>i32</td><td>f64</td><td>i32</td></tr></thead><tbody><tr><td>0</td><td>[-0.134014, -0.120043, … -0.080103]</td><td>32776</td><td>85</td><td>4.0</td><td>73</td></tr><tr><td>0</td><td>[-0.094927, -0.107294, … -0.044575]</td><td>41431</td><td>135</td><td>4.0</td><td>73</td></tr><tr><td>0</td><td>[-0.129044, -0.077246, … 0.002047]</td><td>39419</td><td>339</td><td>4.0</td><td>73</td></tr><tr><td>1</td><td>[-0.127833, -0.133868, … -0.091194]</td><td>36087</td><td>135</td><td>4.0</td><td>73</td></tr><tr><td>1</td><td>[-0.140929, -0.125828, … -0.043056]</td><td>34132</td><td>3</td><td>4.0</td><td>73</td></tr><tr><td>&hellip;</td><td>&hellip;</td><td>&hellip;</td><td>&hellip;</td><td>&hellip;</td><td>&hellip;</td></tr><tr><td>0</td><td>[-0.172583, 0.780391, … -0.110433]</td><td>234</td><td>368</td><td>2.0</td><td>192</td></tr><tr><td>0</td><td>[-0.081145, 0.717163, … -0.06411]</td><td>235</td><td>152</td><td>2.0</td><td>138</td></tr><tr><td>0</td><td>[-0.151772, 1.640085, … -0.100086]</td><td>236</td><td>226</td><td>2.0</td><td>135</td></tr><tr><td>0</td><td>[-0.078192, 0.0126, … -0.095866]</td><td>237</td><td>122</td><td>2.0</td><td>10</td></tr><tr><td>0</td><td>[-0.125235, 0.05892, … -0.072708]</td><td>238</td><td>85</td><td>2.0</td><td>207</td></tr></tbody></table></div>"
      ],
      "text/plain": [
       "shape: (43_692, 6)\n",
       "┌──────────────┬─────────────────────────────────┬────────────┬──────────┬─────────────┬────────┐\n",
       "│ discount     ┆ embedding                       ┆ partnumber ┆ color_id ┆ cod_section ┆ family │\n",
       "│ ---          ┆ ---                             ┆ ---        ┆ ---      ┆ ---         ┆ ---    │\n",
       "│ decimal[1,0] ┆ list[f32]                       ┆ i32        ┆ i32      ┆ f64         ┆ i32    │\n",
       "╞══════════════╪═════════════════════════════════╪════════════╪══════════╪═════════════╪════════╡\n",
       "│ 0            ┆ [-0.134014, -0.120043, … -0.08… ┆ 32776      ┆ 85       ┆ 4.0         ┆ 73     │\n",
       "│ 0            ┆ [-0.094927, -0.107294, … -0.04… ┆ 41431      ┆ 135      ┆ 4.0         ┆ 73     │\n",
       "│ 0            ┆ [-0.129044, -0.077246, … 0.002… ┆ 39419      ┆ 339      ┆ 4.0         ┆ 73     │\n",
       "│ 1            ┆ [-0.127833, -0.133868, … -0.09… ┆ 36087      ┆ 135      ┆ 4.0         ┆ 73     │\n",
       "│ 1            ┆ [-0.140929, -0.125828, … -0.04… ┆ 34132      ┆ 3        ┆ 4.0         ┆ 73     │\n",
       "│ …            ┆ …                               ┆ …          ┆ …        ┆ …           ┆ …      │\n",
       "│ 0            ┆ [-0.172583, 0.780391, … -0.110… ┆ 234        ┆ 368      ┆ 2.0         ┆ 192    │\n",
       "│ 0            ┆ [-0.081145, 0.717163, … -0.064… ┆ 235        ┆ 152      ┆ 2.0         ┆ 138    │\n",
       "│ 0            ┆ [-0.151772, 1.640085, … -0.100… ┆ 236        ┆ 226      ┆ 2.0         ┆ 135    │\n",
       "│ 0            ┆ [-0.078192, 0.0126, … -0.09586… ┆ 237        ┆ 122      ┆ 2.0         ┆ 10     │\n",
       "│ 0            ┆ [-0.125235, 0.05892, … -0.0727… ┆ 238        ┆ 85       ┆ 2.0         ┆ 207    │\n",
       "└──────────────┴─────────────────────────────────┴────────────┴──────────┴─────────────┴────────┘"
      ]
     },
     "execution_count": 7,
     "metadata": {},
     "output_type": "execute_result"
    }
   ],
   "source": [
    "products"
   ]
  },
  {
   "cell_type": "code",
   "execution_count": 20,
   "metadata": {},
   "outputs": [
    {
     "name": "stdout",
     "output_type": "stream",
     "text": [
      "Q1 Result: shape: (1, 1)\n",
      "┌────────────┐\n",
      "│ partnumber │\n",
      "│ ---        │\n",
      "│ i32        │\n",
      "╞════════════╡\n",
      "│ 17265      │\n",
      "└────────────┘\n"
     ]
    }
   ],
   "source": [
    "result_q1 = (\n",
    "    products\n",
    "    .filter((pl.col(\"color_id\") == 3) & (pl.col(\"discount\") == 1))\n",
    "    .sort(\"family\")\n",
    "    .select(\"partnumber\")\n",
    "    .head(1)\n",
    ")\n",
    "\n",
    "print(\"Q1 Result:\", result_q1)\n"
   ]
  },
  {
   "cell_type": "code",
   "execution_count": 40,
   "metadata": {},
   "outputs": [
    {
     "name": "stdout",
     "output_type": "stream",
     "text": [
      "Q2 Result: shape: (1, 1)\n",
      "┌─────────┐\n",
      "│ user_id │\n",
      "│ ---     │\n",
      "│ i64     │\n",
      "╞═════════╡\n",
      "│ 187374  │\n",
      "└─────────┘\n"
     ]
    }
   ],
   "source": [
    "# Filtrar usuarios con compras totales < 500 y contar cuántos hay en cada país\n",
    "filtered_clients = (\n",
    "    clients\n",
    "    .filter(pl.col(\"M\") < 500)  # Filtrar por compras < 500\n",
    "    .group_by(\"country\")  # Agrupar por país\n",
    "    .agg(pl.len().alias(\"count\"))  # Contar los usuarios por país\n",
    "    .sort(\"count\", descending=True)  # Ordenar por cantidad de usuarios\n",
    "    .select('country')\n",
    "    .head(1)\n",
    ")\n",
    "\n",
    "# País con más usuarios con compras < 500\n",
    "top_country = filtered_clients[\"country\"]\n",
    "\n",
    "# Filtrar usuarios en el país top y ordenar por F, R, y user_id\n",
    "result_q2 = (\n",
    "    clients\n",
    "    .filter(pl.col(\"country\") == top_country)  # Filtrar por el país top\n",
    "    .sort([\"F\", \"R\", \"user_id\"], descending=[False, True, False])  # Ordenar\n",
    "    .select('user_id')  # Obtener el primer usuario\n",
    "    .head(1)\n",
    ")\n",
    "\n",
    "print(\"Q2 Result:\", result_q2)"
   ]
  },
  {
   "cell_type": "code",
   "execution_count": 41,
   "metadata": {},
   "outputs": [
    {
     "data": {
      "text/html": [
       "<div><style>\n",
       ".dataframe > thead > tr,\n",
       ".dataframe > tbody > tr {\n",
       "  text-align: right;\n",
       "  white-space: pre-wrap;\n",
       "}\n",
       "</style>\n",
       "<small>shape: (46_551_445, 9)</small><table border=\"1\" class=\"dataframe\"><thead><tr><th>session_id</th><th>date</th><th>timestamp_local</th><th>add_to_cart</th><th>user_id</th><th>country</th><th>partnumber</th><th>device_type</th><th>pagetype</th></tr><tr><td>i64</td><td>str</td><td>str</td><td>i64</td><td>f64</td><td>i64</td><td>i64</td><td>i64</td><td>f64</td></tr></thead><tbody><tr><td>64</td><td>&quot;2024-06-06&quot;</td><td>&quot;2024-06-06 16:43:17.389&quot;</td><td>0</td><td>null</td><td>29</td><td>14327</td><td>1</td><td>24.0</td></tr><tr><td>117</td><td>&quot;2024-06-08&quot;</td><td>&quot;2024-06-08 15:11:02.782&quot;</td><td>0</td><td>null</td><td>57</td><td>38422</td><td>1</td><td>24.0</td></tr><tr><td>117</td><td>&quot;2024-06-08&quot;</td><td>&quot;2024-06-08 15:11:44.797&quot;</td><td>0</td><td>null</td><td>57</td><td>19763</td><td>1</td><td>24.0</td></tr><tr><td>579</td><td>&quot;2024-06-05&quot;</td><td>&quot;2024-06-05 19:24:48.397&quot;</td><td>0</td><td>null</td><td>29</td><td>30253</td><td>1</td><td>24.0</td></tr><tr><td>1220</td><td>&quot;2024-06-04&quot;</td><td>&quot;2024-06-04 08:21:13.476&quot;</td><td>0</td><td>480729.0</td><td>25</td><td>1592</td><td>1</td><td>24.0</td></tr><tr><td>&hellip;</td><td>&hellip;</td><td>&hellip;</td><td>&hellip;</td><td>&hellip;</td><td>&hellip;</td><td>&hellip;</td><td>&hellip;</td><td>&hellip;</td></tr><tr><td>5170695</td><td>&quot;2024-06-07&quot;</td><td>&quot;2024-06-07 17:57:24.644&quot;</td><td>0</td><td>null</td><td>34</td><td>39901</td><td>3</td><td>24.0</td></tr><tr><td>5171109</td><td>&quot;2024-06-04&quot;</td><td>&quot;2024-06-04 12:34:05.430&quot;</td><td>0</td><td>null</td><td>29</td><td>38638</td><td>1</td><td>24.0</td></tr><tr><td>5171307</td><td>&quot;2024-06-07&quot;</td><td>&quot;2024-06-07 07:50:02.549&quot;</td><td>0</td><td>null</td><td>25</td><td>10883</td><td>1</td><td>24.0</td></tr><tr><td>5171603</td><td>&quot;2024-06-13&quot;</td><td>&quot;2024-06-13 17:56:44.477&quot;</td><td>0</td><td>null</td><td>29</td><td>3769</td><td>1</td><td>24.0</td></tr><tr><td>5171698</td><td>&quot;2024-06-11&quot;</td><td>&quot;2024-06-11 03:05:21.361&quot;</td><td>0</td><td>null</td><td>34</td><td>37323</td><td>1</td><td>24.0</td></tr></tbody></table></div>"
      ],
      "text/plain": [
       "shape: (46_551_445, 9)\n",
       "┌────────────┬────────────┬───────────┬───────────┬───┬─────────┬───────────┬───────────┬──────────┐\n",
       "│ session_id ┆ date       ┆ timestamp ┆ add_to_ca ┆ … ┆ country ┆ partnumbe ┆ device_ty ┆ pagetype │\n",
       "│ ---        ┆ ---        ┆ _local    ┆ rt        ┆   ┆ ---     ┆ r         ┆ pe        ┆ ---      │\n",
       "│ i64        ┆ str        ┆ ---       ┆ ---       ┆   ┆ i64     ┆ ---       ┆ ---       ┆ f64      │\n",
       "│            ┆            ┆ str       ┆ i64       ┆   ┆         ┆ i64       ┆ i64       ┆          │\n",
       "╞════════════╪════════════╪═══════════╪═══════════╪═══╪═════════╪═══════════╪═══════════╪══════════╡\n",
       "│ 64         ┆ 2024-06-06 ┆ 2024-06-0 ┆ 0         ┆ … ┆ 29      ┆ 14327     ┆ 1         ┆ 24.0     │\n",
       "│            ┆            ┆ 6 16:43:1 ┆           ┆   ┆         ┆           ┆           ┆          │\n",
       "│            ┆            ┆ 7.389     ┆           ┆   ┆         ┆           ┆           ┆          │\n",
       "│ 117        ┆ 2024-06-08 ┆ 2024-06-0 ┆ 0         ┆ … ┆ 57      ┆ 38422     ┆ 1         ┆ 24.0     │\n",
       "│            ┆            ┆ 8 15:11:0 ┆           ┆   ┆         ┆           ┆           ┆          │\n",
       "│            ┆            ┆ 2.782     ┆           ┆   ┆         ┆           ┆           ┆          │\n",
       "│ 117        ┆ 2024-06-08 ┆ 2024-06-0 ┆ 0         ┆ … ┆ 57      ┆ 19763     ┆ 1         ┆ 24.0     │\n",
       "│            ┆            ┆ 8 15:11:4 ┆           ┆   ┆         ┆           ┆           ┆          │\n",
       "│            ┆            ┆ 4.797     ┆           ┆   ┆         ┆           ┆           ┆          │\n",
       "│ 579        ┆ 2024-06-05 ┆ 2024-06-0 ┆ 0         ┆ … ┆ 29      ┆ 30253     ┆ 1         ┆ 24.0     │\n",
       "│            ┆            ┆ 5 19:24:4 ┆           ┆   ┆         ┆           ┆           ┆          │\n",
       "│            ┆            ┆ 8.397     ┆           ┆   ┆         ┆           ┆           ┆          │\n",
       "│ 1220       ┆ 2024-06-04 ┆ 2024-06-0 ┆ 0         ┆ … ┆ 25      ┆ 1592      ┆ 1         ┆ 24.0     │\n",
       "│            ┆            ┆ 4 08:21:1 ┆           ┆   ┆         ┆           ┆           ┆          │\n",
       "│            ┆            ┆ 3.476     ┆           ┆   ┆         ┆           ┆           ┆          │\n",
       "│ …          ┆ …          ┆ …         ┆ …         ┆ … ┆ …       ┆ …         ┆ …         ┆ …        │\n",
       "│ 5170695    ┆ 2024-06-07 ┆ 2024-06-0 ┆ 0         ┆ … ┆ 34      ┆ 39901     ┆ 3         ┆ 24.0     │\n",
       "│            ┆            ┆ 7 17:57:2 ┆           ┆   ┆         ┆           ┆           ┆          │\n",
       "│            ┆            ┆ 4.644     ┆           ┆   ┆         ┆           ┆           ┆          │\n",
       "│ 5171109    ┆ 2024-06-04 ┆ 2024-06-0 ┆ 0         ┆ … ┆ 29      ┆ 38638     ┆ 1         ┆ 24.0     │\n",
       "│            ┆            ┆ 4 12:34:0 ┆           ┆   ┆         ┆           ┆           ┆          │\n",
       "│            ┆            ┆ 5.430     ┆           ┆   ┆         ┆           ┆           ┆          │\n",
       "│ 5171307    ┆ 2024-06-07 ┆ 2024-06-0 ┆ 0         ┆ … ┆ 25      ┆ 10883     ┆ 1         ┆ 24.0     │\n",
       "│            ┆            ┆ 7 07:50:0 ┆           ┆   ┆         ┆           ┆           ┆          │\n",
       "│            ┆            ┆ 2.549     ┆           ┆   ┆         ┆           ┆           ┆          │\n",
       "│ 5171603    ┆ 2024-06-13 ┆ 2024-06-1 ┆ 0         ┆ … ┆ 29      ┆ 3769      ┆ 1         ┆ 24.0     │\n",
       "│            ┆            ┆ 3 17:56:4 ┆           ┆   ┆         ┆           ┆           ┆          │\n",
       "│            ┆            ┆ 4.477     ┆           ┆   ┆         ┆           ┆           ┆          │\n",
       "│ 5171698    ┆ 2024-06-11 ┆ 2024-06-1 ┆ 0         ┆ … ┆ 34      ┆ 37323     ┆ 1         ┆ 24.0     │\n",
       "│            ┆            ┆ 1 03:05:2 ┆           ┆   ┆         ┆           ┆           ┆          │\n",
       "│            ┆            ┆ 1.361     ┆           ┆   ┆         ┆           ┆           ┆          │\n",
       "└────────────┴────────────┴───────────┴───────────┴───┴─────────┴───────────┴───────────┴──────────┘"
      ]
     },
     "execution_count": 41,
     "metadata": {},
     "output_type": "execute_result"
    }
   ],
   "source": [
    "train"
   ]
  },
  {
   "cell_type": "code",
   "execution_count": 53,
   "metadata": {},
   "outputs": [
    {
     "name": "stdout",
     "output_type": "stream",
     "text": [
      "shape: (1, 1)\n",
      "┌─────────────────────┐\n",
      "│ visits_per_cart_add │\n",
      "│ ---                 │\n",
      "│ f64                 │\n",
      "╞═════════════════════╡\n",
      "│ 21.9                │\n",
      "└─────────────────────┘\n"
     ]
    }
   ],
   "source": [
    "# result_q3 = (\n",
    "#     train\n",
    "#     .filter(pl.col(\"add_to_cart\") == 1)  # Filtrar productos añadidos al carrito\n",
    "#     .group_by(\"partnumber\")\n",
    "#     .agg([\n",
    "#         pl.len().alias(\"total_visits\"),\n",
    "#         pl.sum(\"add_to_cart\").alias(\"cart_adds\"),\n",
    "#     ])\n",
    "#     #.with_columns((pl.col(\"total_visits\") / pl.col(\"cart_adds\")).alias(\"visits_per_cart_add\"))\n",
    "#     .select(pl.col(\"visits_per_cart_add\").mean().round(2))\n",
    "# )\n",
    "\n",
    "result_q3_filtered= (\n",
    "    train\n",
    "    .group_by('partnumber')  # Agrupar por 'partnumber'\n",
    "    .agg(pl.sum('add_to_cart').alias('cart_adds'))  # Sumar 'add_to_cart' para obtener 'cart_adds'\n",
    "    .filter(pl.col('cart_adds') > 1)  # Filtrar solo los productos con 'cart_adds' > 1\n",
    ")\n",
    "\n",
    "result_q3 = (\n",
    "    train\n",
    "    .filter(pl.col('partnumber').is_in(result_q3_filtered['partnumber']))\n",
    "    .group_by(\"partnumber\")\n",
    "    .agg([\n",
    "        pl.len().alias(\"total_visits\"),\n",
    "        pl.sum(\"add_to_cart\").alias(\"cart_adds\"),\n",
    "    ])\n",
    "    .with_columns((pl.col(\"total_visits\") / pl.col(\"cart_adds\")).alias(\"visits_per_cart_add\"))\n",
    "    .select(pl.col(\"visits_per_cart_add\").mean().round(2))\n",
    ")\n",
    "\n",
    "print(result_q3)\n",
    "\n"
   ]
  },
  {
   "cell_type": "code",
   "execution_count": null,
   "metadata": {},
   "outputs": [],
   "source": [
    "result_q4 = (\n",
    "    train\n",
    "    .filter((pl.col(\"add_to_cart\") == 1) & (pl.col(\"discount\") == 1))\n",
    "    .groupby(\"device_type\")\n",
    "    .count()\n",
    "    .sort(\"count\", reverse=True)\n",
    "    .select(\"device_type\")\n",
    "    .first()\n",
    ")\n",
    "\n",
    "print(\"Q4 Result:\", result_q4)\n"
   ]
  },
  {
   "cell_type": "code",
   "execution_count": null,
   "metadata": {},
   "outputs": [],
   "source": [
    "top_users_by_frequency = (\n",
    "    clients\n",
    "    .groupby(\"country\")\n",
    "    .agg(pl.col(\"purchase_frequency\").top_k(3).alias(\"top_frequencies\"))\n",
    "    .explode(\"top_frequencies\")\n",
    ")\n",
    "\n",
    "result_q5 = (\n",
    "    train\n",
    "    .filter(pl.col(\"device_type\") == 3)\n",
    "    .join(top_users_by_frequency, on=\"user_id\", how=\"inner\")\n",
    "    .groupby(\"user_id\")\n",
    "    .agg(pl.n_unique(\"partnumber\").alias(\"unique_interactions\"))\n",
    "    .sort(\"unique_interactions\", reverse=True)\n",
    "    .first()\n",
    ")\n",
    "\n",
    "print(\"Q5 Result:\", result_q5)\n"
   ]
  },
  {
   "cell_type": "code",
   "execution_count": null,
   "metadata": {},
   "outputs": [],
   "source": [
    "result_q6 = (\n",
    "    train\n",
    "    .filter(pl.col(\"country\") != pl.col(\"user_country\"))  # Filtrar interacciones fuera del país del usuario\n",
    "    .select(\"family_identifier\")\n",
    "    .n_unique()\n",
    ")\n",
    "\n",
    "print(\"Q6 Result:\", result_q6)\n"
   ]
  },
  {
   "cell_type": "code",
   "execution_count": null,
   "metadata": {},
   "outputs": [],
   "source": [
    "from datetime import datetime\n",
    "\n",
    "# Filtrar interacciones de los primeros 7 días de junio\n",
    "result_q7 = (\n",
    "    train\n",
    "    .filter(\n",
    "        (pl.col(\"add_to_cart\") == 1) &\n",
    "        (pl.col(\"date\").str.strptime(pl.Date, fmt=\"%Y-%m-%d\") >= datetime(2023, 6, 1)) &\n",
    "        (pl.col(\"date\").str.strptime(pl.Date, fmt=\"%Y-%m-%d\") <= datetime(2023, 6, 7))\n",
    "    )\n",
    "    .groupby([\"family\", \"page_type\"])\n",
    "    .count()\n",
    "    .sort([\"family\", \"count\", \"page_type\"], descending=[False, True, False])\n",
    "    .groupby(\"family\")\n",
    "    .agg(pl.first(\"page_type\").alias(\"most_frequent_pagetype\"))\n",
    "    .to_dicts()\n",
    ")\n",
    "\n",
    "print(\"Q7 Result:\", result_q7)"
   ]
  }
 ],
 "metadata": {
  "kernelspec": {
   "display_name": "venv",
   "language": "python",
   "name": "python3"
  },
  "language_info": {
   "codemirror_mode": {
    "name": "ipython",
    "version": 3
   },
   "file_extension": ".py",
   "mimetype": "text/x-python",
   "name": "python",
   "nbconvert_exporter": "python",
   "pygments_lexer": "ipython3",
   "version": "3.12.3"
  }
 },
 "nbformat": 4,
 "nbformat_minor": 2
}
