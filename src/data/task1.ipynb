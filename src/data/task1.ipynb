{
 "cells": [
  {
   "cell_type": "markdown",
   "metadata": {},
   "source": [
    "Vamos a pasar el .pkl a .csv para polars"
   ]
  },
  {
   "cell_type": "code",
   "execution_count": 1,
   "metadata": {},
   "outputs": [],
   "source": [
    "import polars as pl\n",
    "import pandas as pd"
   ]
  },
  {
   "cell_type": "code",
   "execution_count": 2,
   "metadata": {},
   "outputs": [],
   "source": [
    "schema = {\n",
    "    \"session_id\": pl.Int64,\n",
    "    \"date\": pl.Utf8,               # String en Polars se representa como Utf8\n",
    "    \"timestamp_local\": pl.Utf8,   # String -> Utf8\n",
    "    \"add_to_cart\": pl.Int64,\n",
    "    \"user_id\": pl.Float64,\n",
    "    \"country\": pl.Int64,\n",
    "    \"partnumber\": pl.Int32,\n",
    "    \"device_type\": pl.Int64,\n",
    "    \"pagetype\": pl.Float64\n",
    "}\n",
    "\n",
    "schema_clients = {\n",
    "    \"user_id\": pl.Float64,\n",
    "    \"country\": pl.Int64,\n",
    "    \"R\": pl.Int64,\n",
    "    \"F\": pl.Int64,\n",
    "    \"M\": pl.Float64\n",
    "}\n"
   ]
  },
  {
   "cell_type": "code",
   "execution_count": 13,
   "metadata": {},
   "outputs": [],
   "source": [
    "train = pl.read_csv(\"../../data/raw/train.csv\", schema=schema)\n",
    "clients = pl.read_csv(\"../../data/raw/users_data.csv\", schema=schema_clients)\n",
    "products_pandas = pd.read_pickle(\"../../data/raw/products.pkl\")\n",
    "products = pl.from_pandas(products_pandas)"
   ]
  },
  {
   "cell_type": "code",
   "execution_count": 4,
   "metadata": {},
   "outputs": [
    {
     "name": "stdout",
     "output_type": "stream",
     "text": [
      "Q1 Result: shape: (1, 1)\n",
      "┌────────────┐\n",
      "│ partnumber │\n",
      "│ ---        │\n",
      "│ i32        │\n",
      "╞════════════╡\n",
      "│ 17265      │\n",
      "└────────────┘\n"
     ]
    }
   ],
   "source": [
    "result_q1 = (\n",
    "    products\n",
    "    .filter((pl.col(\"color_id\") == 3) & (pl.col(\"discount\") == 1))\n",
    "    .sort(\"family\", descending=False)\n",
    "    .select(\"partnumber\")\n",
    "    .head(1)\n",
    ")\n",
    "\n",
    "print(\"Q1 Result:\", result_q1)\n"
   ]
  },
  {
   "cell_type": "code",
   "execution_count": 5,
   "metadata": {},
   "outputs": [
    {
     "name": "stdout",
     "output_type": "stream",
     "text": [
      "Q2 Result: shape: (1, 1)\n",
      "┌──────────┐\n",
      "│ user_id  │\n",
      "│ ---      │\n",
      "│ f64      │\n",
      "╞══════════╡\n",
      "│ 187374.0 │\n",
      "└──────────┘\n"
     ]
    }
   ],
   "source": [
    "# Filtrar usuarios con compras totales < 500 y contar cuántos hay en cada país\n",
    "filtered_clients = (\n",
    "    clients\n",
    "    .filter(pl.col(\"M\") < 500)  # Filtrar por compras < 500\n",
    "    .group_by(\"country\")  # Agrupar por país\n",
    "    .agg(pl.len().alias(\"count\"))  # Contar los usuarios por país\n",
    "    .sort(\"count\", descending=True)  # Ordenar por cantidad de usuarios\n",
    "    .select('country')\n",
    "    .head(1)\n",
    ")\n",
    "\n",
    "# País con más usuarios con compras < 500\n",
    "top_country = filtered_clients[\"country\"]\n",
    "\n",
    "# Filtrar usuarios en el país top y ordenar por F, R, y user_id\n",
    "result_q2 = (\n",
    "    clients\n",
    "    .filter(pl.col(\"country\") == top_country)  # Filtrar por el país top\n",
    "    .sort([\"F\", \"R\", \"user_id\"], descending=[False, True, False])  # Ordenar\n",
    "    .select('user_id')  # Obtener el primer usuario\n",
    "    .head(1)\n",
    ")\n",
    "\n",
    "print(\"Q2 Result:\", result_q2)"
   ]
  },
  {
   "cell_type": "code",
   "execution_count": 14,
   "metadata": {},
   "outputs": [],
   "source": [
    "train = train.with_columns(\n",
    "    pl.col(\"timestamp_local\").str.strptime(pl.Datetime, format=\"%Y-%m-%d %H:%M:%S%.f\")\n",
    ")"
   ]
  },
  {
   "cell_type": "code",
   "execution_count": 43,
   "metadata": {},
   "outputs": [
    {
     "data": {
      "text/plain": [
       "25.71"
      ]
     },
     "execution_count": 43,
     "metadata": {},
     "output_type": "execute_result"
    }
   ],
   "source": [
    "result_q3_filtered_added = (\n",
    "    train\n",
    "    .group_by('partnumber')  # Agrupar por 'partnumber'\n",
    "    .agg(pl.sum('add_to_cart').alias('cart_adds'))  # Sumar 'add_to_cart' para obtener 'cart_adds'\n",
    "    .filter(pl.col('cart_adds') >= 1)  # Filtrar solo los productos con 'cart_adds' > 0\n",
    ")\n",
    "\n",
    "timestamps_min = (\n",
    "    train\n",
    "    .filter(pl.col('partnumber').is_in(result_q3_filtered_added['partnumber']))\n",
    "    .filter(pl.col('add_to_cart') == 1)  # Filtrar filas con add_to_cart == 1\n",
    "    .group_by('partnumber')  # Agrupar por 'partnumber'\n",
    "    .agg(pl.col('timestamp_local').min().alias('min_timestamp'))  # Obtener el timestamp más antiguo\n",
    ")\n",
    "\n",
    "result_q3_filtered = (\n",
    "    train\n",
    "    .filter(pl.col('partnumber').is_in(result_q3_filtered_added['partnumber']))\n",
    "    .join(timestamps_min, on='partnumber', how='inner')  # Combinar para añadir el min_timestamp por partnumber\n",
    "    .filter(pl.col('timestamp_local') <= pl.col('min_timestamp'))  # Filtrar filas con timestamp > min_timestamp\n",
    "    .group_by('partnumber')\n",
    "    .agg(pl.len().alias('veces visto antes de añadir al carrito'))\n",
    ")\n",
    "\n",
    "# Paso 3: Agrupar por 'partnumber' (si deseas realizar operaciones adicionales)\n",
    "media = result_q3_filtered['veces visto antes de añadir al carrito'].mean()\n",
    "round(media, 2)"
   ]
  },
  {
   "cell_type": "code",
   "execution_count": null,
   "metadata": {},
   "outputs": [
    {
     "data": {
      "text/html": [
       "<div><style>\n",
       ".dataframe > thead > tr,\n",
       ".dataframe > tbody > tr {\n",
       "  text-align: right;\n",
       "  white-space: pre-wrap;\n",
       "}\n",
       "</style>\n",
       "<small>shape: (2, 3)</small><table border=\"1\" class=\"dataframe\"><thead><tr><th>partnumber</th><th>add_to_cart</th><th>n</th></tr><tr><td>i32</td><td>i64</td><td>u32</td></tr></thead><tbody><tr><td>1152</td><td>0</td><td>1976</td></tr><tr><td>1152</td><td>1</td><td>73</td></tr></tbody></table></div>"
      ],
      "text/plain": [
       "shape: (2, 3)\n",
       "┌────────────┬─────────────┬──────┐\n",
       "│ partnumber ┆ add_to_cart ┆ n    │\n",
       "│ ---        ┆ ---         ┆ ---  │\n",
       "│ i32        ┆ i64         ┆ u32  │\n",
       "╞════════════╪═════════════╪══════╡\n",
       "│ 1152       ┆ 0           ┆ 1976 │\n",
       "│ 1152       ┆ 1           ┆ 73   │\n",
       "└────────────┴─────────────┴──────┘"
      ]
     },
     "execution_count": 6,
     "metadata": {},
     "output_type": "execute_result"
    }
   ],
   "source": [
    "#MAL\n",
    "result_q3_filtered= (\n",
    "    train\n",
    "    .group_by('partnumber')  # Agrupar por 'partnumber'\n",
    "    .agg(pl.sum('add_to_cart').alias('cart_adds'))  # Sumar 'add_to_cart' para obtener 'cart_adds'\n",
    "    .filter(pl.col('cart_adds') >= 1)  # Filtrar solo los productos con 'cart_adds' > 1\n",
    ")\n",
    "\n",
    "result_q3 = (\n",
    "    train\n",
    "    .filter(pl.col('partnumber').is_in(result_q3_filtered['partnumber']))\n",
    "    .group_by(['partnumber', 'add_to_cart'])\n",
    "    .agg(pl.len().alias('n'))\n",
    "    .filter(pl.col('partnumber') == 1152)\n",
    ")\n",
    "result_q3"
   ]
  },
  {
   "cell_type": "code",
   "execution_count": 34,
   "metadata": {},
   "outputs": [
    {
     "name": "stdout",
     "output_type": "stream",
     "text": [
      "shape: (58_094, 3)\n",
      "┌────────────┬─────────────┬─────┐\n",
      "│ partnumber ┆ add_to_cart ┆ n   │\n",
      "│ ---        ┆ ---         ┆ --- │\n",
      "│ i32        ┆ i64         ┆ u32 │\n",
      "╞════════════╪═════════════╪═════╡\n",
      "│ 41567      ┆ 0           ┆ 889 │\n",
      "│ 36492      ┆ 1           ┆ 3   │\n",
      "│ 8007       ┆ 0           ┆ 255 │\n",
      "│ 19996      ┆ 0           ┆ 790 │\n",
      "│ 32315      ┆ 1           ┆ 125 │\n",
      "│ …          ┆ …           ┆ …   │\n",
      "│ 39233      ┆ 1           ┆ 79  │\n",
      "│ 1463       ┆ 0           ┆ 43  │\n",
      "│ 33845      ┆ 0           ┆ 217 │\n",
      "│ 40981      ┆ 0           ┆ 936 │\n",
      "│ 37947      ┆ 0           ┆ 96  │\n",
      "└────────────┴─────────────┴─────┘\n",
      "shape: (1, 1)\n",
      "┌───────────────────┐\n",
      "│ ratio_cart_0_to_1 │\n",
      "│ ---               │\n",
      "│ f64               │\n",
      "╞═══════════════════╡\n",
      "│ 22.781047         │\n",
      "└───────────────────┘\n"
     ]
    }
   ],
   "source": [
    "#MAL\n",
    "result_q3_filtered= (\n",
    "    train\n",
    "    .group_by('partnumber')  # Agrupar por 'partnumber'\n",
    "    .agg(pl.sum('add_to_cart').alias('cart_adds'))  # Sumar 'add_to_cart' para obtener 'cart_adds'\n",
    "    .filter(pl.col('cart_adds') >= 1)  # Filtrar solo los productos con 'cart_adds' > 1\n",
    ")\n",
    "\n",
    "result_q3 = (\n",
    "    train\n",
    "    .filter(pl.col('partnumber').is_in(result_q3_filtered['partnumber']))\n",
    "    .group_by(['partnumber', 'add_to_cart'])\n",
    "    .agg(pl.len().alias('n'))\n",
    ")\n",
    "\n",
    "print(result_q3)\n",
    "\n",
    "result_ratios = (\n",
    "    result_q3\n",
    "    .pivot(values=\"n\", index=\"partnumber\", on=\"add_to_cart\")  # Pivotar por 'add_to_cart'\n",
    "    .with_columns(\n",
    "        (pl.col(\"0\") / pl.col(\"1\")).alias(\"ratio_cart_0_to_1\")  # Calcular ratio\n",
    "    )\n",
    ")\n",
    "\n",
    "print(result_ratios.select('ratio_cart_0_to_1').mean())\n",
    "\n"
   ]
  },
  {
   "cell_type": "code",
   "execution_count": 8,
   "metadata": {},
   "outputs": [
    {
     "name": "stdout",
     "output_type": "stream",
     "text": [
      "shape: (1, 1)\n",
      "┌───────────────────────┐\n",
      "│ count_cart_0_before_1 │\n",
      "│ ---                   │\n",
      "│ f64                   │\n",
      "╞═══════════════════════╡\n",
      "│ 26.687904             │\n",
      "└───────────────────────┘\n"
     ]
    }
   ],
   "source": [
    "#MAL\n",
    "result_q3_filtered= (\n",
    "    train\n",
    "    .group_by('partnumber')  # Agrupar por 'partnumber'\n",
    "    .agg(pl.sum('add_to_cart').alias('cart_adds'))  # Sumar 'add_to_cart' para obtener 'cart_adds'\n",
    "    .filter(pl.col('cart_adds') >= 1)  # Filtrar solo los productos con 'cart_adds' > 1\n",
    ")\n",
    "\n",
    "result_q3 = (\n",
    "    train\n",
    "    .filter(pl.col('partnumber').is_in(result_q3_filtered['partnumber']))\n",
    ")\n",
    "\n",
    "# Ordenar por 'partnumber' y asegurar un orden lógico (asumiendo que hay una columna 'timestamp')\n",
    "result_with_counts = (\n",
    "    result_q3\n",
    "    .sort([\"partnumber\", \"timestamp_local\"])  # Ordenar por partnumber y tiempo\n",
    "    .with_columns(\n",
    "        # Crear una columna acumulativa para identificar el índice de cada fila dentro del grupo\n",
    "        pl.arange(0, pl.len()).over(\"partnumber\").alias(\"row_idx\"),\n",
    "        # Crear una columna que indique si es la primera aparición de add_to_cart == 1\n",
    "        (pl.col(\"add_to_cart\") == 1).cum_sum().over(\"partnumber\").alias(\"cart_flag\"),\n",
    "    )\n",
    "    # Filtrar filas con add_to_cart = 0 antes del primer add_to_cart = 1\n",
    "    .filter((pl.col(\"add_to_cart\") == 0) & (pl.col(\"cart_flag\") == 0))\n",
    "    .group_by(\"partnumber\")\n",
    "    .agg(pl.len().alias(\"count_cart_0_before_1\"))  # Contar filas para cada partnumber\n",
    ")\n",
    "\n",
    "print(result_with_counts.select('count_cart_0_before_1').mean())\n"
   ]
  },
  {
   "cell_type": "code",
   "execution_count": 7,
   "metadata": {},
   "outputs": [
    {
     "name": "stdout",
     "output_type": "stream",
     "text": [
      "Q4 Result: shape: (1, 2)\n",
      "┌─────────────┬─────────────┐\n",
      "│ device_type ┆ usage_count │\n",
      "│ ---         ┆ ---         │\n",
      "│ i64         ┆ u32         │\n",
      "╞═════════════╪═════════════╡\n",
      "│ 1           ┆ 169439      │\n",
      "└─────────────┴─────────────┘\n"
     ]
    }
   ],
   "source": [
    "products_mini = products.select(['partnumber', 'discount'])\n",
    "train_concat = train.join(products_mini, on='partnumber', how='inner')\n",
    "\n",
    "result_q4 = (\n",
    "    train_concat\n",
    "    .filter((pl.col(\"add_to_cart\") == 1) & (pl.col(\"discount\") == 1))\n",
    "    .group_by(\"device_type\")\n",
    "    .agg(pl.len().alias(\"usage_count\"))  # Contar el número de filas para cada dispositivo\n",
    "    .sort(\"usage_count\", descending=True)  # Ordenar por la frecuencia de uso\n",
    "    .head(1)\n",
    ")\n",
    "\n",
    "print(\"Q4 Result:\", result_q4)\n"
   ]
  },
  {
   "cell_type": "code",
   "execution_count": 8,
   "metadata": {},
   "outputs": [
    {
     "name": "stdout",
     "output_type": "stream",
     "text": [
      "Q5 Result: shape: (1, 2)\n",
      "┌─────────┬─────────────────────┐\n",
      "│ user_id ┆ unique_interactions │\n",
      "│ ---     ┆ ---                 │\n",
      "│ f64     ┆ u32                 │\n",
      "╞═════════╪═════════════════════╡\n",
      "│ 72153.0 ┆ 81                  │\n",
      "└─────────┴─────────────────────┘\n"
     ]
    }
   ],
   "source": [
    "# Paso 1: Filtrar los usuarios con las frecuencias de compra más altas dentro de su país\n",
    "top_3_frequency_users = (\n",
    "    clients\n",
    "    .sort([\"country\", \"F\"], descending=[False, True])  # Ordenar por país y frecuencia de compra\n",
    "    .group_by(\"country\")\n",
    "    .head(3)  # Seleccionar los 3 usuarios con mayor frecuencia dentro de su país\n",
    ")\n",
    "\n",
    "# Paso 2: Filtrar por `device_type == 3` y contar las interacciones con productos\n",
    "result_q5 = (\n",
    "    train  # Supongo que 'sessions' contiene las interacciones de los usuarios\n",
    "    .filter(pl.col(\"user_id\").is_in(top_3_frequency_users[\"user_id\"]))  # Filtrar solo los usuarios del top 3\n",
    "    .filter(pl.col(\"device_type\") == 3)  # Filtrar por `device_type == 3`\n",
    "    .group_by(\"user_id\")  # Agrupar por usuario\n",
    "    .agg(pl.n_unique(\"partnumber\").alias(\"unique_interactions\"))  # Contar productos distintos\n",
    "    .sort(\"unique_interactions\", descending=True)  # Ordenar por interacciones más altas\n",
    "    .head(1)  # Seleccionar el usuario con más interacciones\n",
    ")\n",
    "\n",
    "# Resultado final\n",
    "print(\"Q5 Result:\", result_q5)\n"
   ]
  },
  {
   "cell_type": "code",
   "execution_count": null,
   "metadata": {},
   "outputs": [],
   "source": [
    "clients_mini = (\n",
    "    clients\n",
    "    .select([\n",
    "        pl.col('user_id'),\n",
    "        pl.col('country').alias('user_country')\n",
    "    ])\n",
    ")\n",
    "products_mini = products.select(['partnumber', 'family'])\n",
    "train_mini = train.select(['partnumber', 'country'])\n",
    "\n",
    "clients_concat = clients_mini.join(train, on='user_id', how='inner')\n",
    "clients_concat = clients_concat.join(products_mini, on='partnumber', how='inner')"
   ]
  },
  {
   "cell_type": "code",
   "execution_count": 5,
   "metadata": {},
   "outputs": [
    {
     "name": "stdout",
     "output_type": "stream",
     "text": [
      "Q6 Result: 116\n"
     ]
    }
   ],
   "source": [
    "result_q6 = (\n",
    "    clients_concat\n",
    "    .filter(pl.col(\"country\") != pl.col(\"user_country\"))  # Filtrar interacciones fuera del país del usuario\n",
    "    .select(\"family\")\n",
    "    .n_unique()\n",
    ")\n",
    "\n",
    "print(\"Q6 Result:\", result_q6)"
   ]
  },
  {
   "cell_type": "code",
   "execution_count": 28,
   "metadata": {},
   "outputs": [
    {
     "data": {
      "text/html": [
       "<div><style>\n",
       ".dataframe > thead > tr,\n",
       ".dataframe > tbody > tr {\n",
       "  text-align: right;\n",
       "  white-space: pre-wrap;\n",
       "}\n",
       "</style>\n",
       "<small>shape: (46_551_445, 10)</small><table border=\"1\" class=\"dataframe\"><thead><tr><th>session_id</th><th>date</th><th>timestamp_local</th><th>add_to_cart</th><th>user_id</th><th>country</th><th>partnumber</th><th>device_type</th><th>pagetype</th><th>family</th></tr><tr><td>i64</td><td>str</td><td>datetime[μs]</td><td>i64</td><td>f64</td><td>i64</td><td>i32</td><td>i64</td><td>f64</td><td>i32</td></tr></thead><tbody><tr><td>64</td><td>&quot;2024-06-06&quot;</td><td>2024-06-06 16:43:17.389</td><td>0</td><td>null</td><td>29</td><td>14327</td><td>1</td><td>24.0</td><td>22</td></tr><tr><td>117</td><td>&quot;2024-06-08&quot;</td><td>2024-06-08 15:11:02.782</td><td>0</td><td>null</td><td>57</td><td>38422</td><td>1</td><td>24.0</td><td>73</td></tr><tr><td>117</td><td>&quot;2024-06-08&quot;</td><td>2024-06-08 15:11:44.797</td><td>0</td><td>null</td><td>57</td><td>19763</td><td>1</td><td>24.0</td><td>156</td></tr><tr><td>579</td><td>&quot;2024-06-05&quot;</td><td>2024-06-05 19:24:48.397</td><td>0</td><td>null</td><td>29</td><td>30253</td><td>1</td><td>24.0</td><td>53</td></tr><tr><td>1220</td><td>&quot;2024-06-04&quot;</td><td>2024-06-04 08:21:13.476</td><td>0</td><td>480729.0</td><td>25</td><td>1592</td><td>1</td><td>24.0</td><td>73</td></tr><tr><td>&hellip;</td><td>&hellip;</td><td>&hellip;</td><td>&hellip;</td><td>&hellip;</td><td>&hellip;</td><td>&hellip;</td><td>&hellip;</td><td>&hellip;</td><td>&hellip;</td></tr><tr><td>5170695</td><td>&quot;2024-06-07&quot;</td><td>2024-06-07 17:57:24.644</td><td>0</td><td>null</td><td>34</td><td>39901</td><td>3</td><td>24.0</td><td>96</td></tr><tr><td>5171109</td><td>&quot;2024-06-04&quot;</td><td>2024-06-04 12:34:05.430</td><td>0</td><td>null</td><td>29</td><td>38638</td><td>1</td><td>24.0</td><td>97</td></tr><tr><td>5171307</td><td>&quot;2024-06-07&quot;</td><td>2024-06-07 07:50:02.549</td><td>0</td><td>null</td><td>25</td><td>10883</td><td>1</td><td>24.0</td><td>156</td></tr><tr><td>5171603</td><td>&quot;2024-06-13&quot;</td><td>2024-06-13 17:56:44.477</td><td>0</td><td>null</td><td>29</td><td>3769</td><td>1</td><td>24.0</td><td>146</td></tr><tr><td>5171698</td><td>&quot;2024-06-11&quot;</td><td>2024-06-11 03:05:21.361</td><td>0</td><td>null</td><td>34</td><td>37323</td><td>1</td><td>24.0</td><td>51</td></tr></tbody></table></div>"
      ],
      "text/plain": [
       "shape: (46_551_445, 10)\n",
       "┌────────────┬────────────┬────────────┬───────────┬───┬───────────┬───────────┬──────────┬────────┐\n",
       "│ session_id ┆ date       ┆ timestamp_ ┆ add_to_ca ┆ … ┆ partnumbe ┆ device_ty ┆ pagetype ┆ family │\n",
       "│ ---        ┆ ---        ┆ local      ┆ rt        ┆   ┆ r         ┆ pe        ┆ ---      ┆ ---    │\n",
       "│ i64        ┆ str        ┆ ---        ┆ ---       ┆   ┆ ---       ┆ ---       ┆ f64      ┆ i32    │\n",
       "│            ┆            ┆ datetime[μ ┆ i64       ┆   ┆ i32       ┆ i64       ┆          ┆        │\n",
       "│            ┆            ┆ s]         ┆           ┆   ┆           ┆           ┆          ┆        │\n",
       "╞════════════╪════════════╪════════════╪═══════════╪═══╪═══════════╪═══════════╪══════════╪════════╡\n",
       "│ 64         ┆ 2024-06-06 ┆ 2024-06-06 ┆ 0         ┆ … ┆ 14327     ┆ 1         ┆ 24.0     ┆ 22     │\n",
       "│            ┆            ┆ 16:43:17.3 ┆           ┆   ┆           ┆           ┆          ┆        │\n",
       "│            ┆            ┆ 89         ┆           ┆   ┆           ┆           ┆          ┆        │\n",
       "│ 117        ┆ 2024-06-08 ┆ 2024-06-08 ┆ 0         ┆ … ┆ 38422     ┆ 1         ┆ 24.0     ┆ 73     │\n",
       "│            ┆            ┆ 15:11:02.7 ┆           ┆   ┆           ┆           ┆          ┆        │\n",
       "│            ┆            ┆ 82         ┆           ┆   ┆           ┆           ┆          ┆        │\n",
       "│ 117        ┆ 2024-06-08 ┆ 2024-06-08 ┆ 0         ┆ … ┆ 19763     ┆ 1         ┆ 24.0     ┆ 156    │\n",
       "│            ┆            ┆ 15:11:44.7 ┆           ┆   ┆           ┆           ┆          ┆        │\n",
       "│            ┆            ┆ 97         ┆           ┆   ┆           ┆           ┆          ┆        │\n",
       "│ 579        ┆ 2024-06-05 ┆ 2024-06-05 ┆ 0         ┆ … ┆ 30253     ┆ 1         ┆ 24.0     ┆ 53     │\n",
       "│            ┆            ┆ 19:24:48.3 ┆           ┆   ┆           ┆           ┆          ┆        │\n",
       "│            ┆            ┆ 97         ┆           ┆   ┆           ┆           ┆          ┆        │\n",
       "│ 1220       ┆ 2024-06-04 ┆ 2024-06-04 ┆ 0         ┆ … ┆ 1592      ┆ 1         ┆ 24.0     ┆ 73     │\n",
       "│            ┆            ┆ 08:21:13.4 ┆           ┆   ┆           ┆           ┆          ┆        │\n",
       "│            ┆            ┆ 76         ┆           ┆   ┆           ┆           ┆          ┆        │\n",
       "│ …          ┆ …          ┆ …          ┆ …         ┆ … ┆ …         ┆ …         ┆ …        ┆ …      │\n",
       "│ 5170695    ┆ 2024-06-07 ┆ 2024-06-07 ┆ 0         ┆ … ┆ 39901     ┆ 3         ┆ 24.0     ┆ 96     │\n",
       "│            ┆            ┆ 17:57:24.6 ┆           ┆   ┆           ┆           ┆          ┆        │\n",
       "│            ┆            ┆ 44         ┆           ┆   ┆           ┆           ┆          ┆        │\n",
       "│ 5171109    ┆ 2024-06-04 ┆ 2024-06-04 ┆ 0         ┆ … ┆ 38638     ┆ 1         ┆ 24.0     ┆ 97     │\n",
       "│            ┆            ┆ 12:34:05.4 ┆           ┆   ┆           ┆           ┆          ┆        │\n",
       "│            ┆            ┆ 30         ┆           ┆   ┆           ┆           ┆          ┆        │\n",
       "│ 5171307    ┆ 2024-06-07 ┆ 2024-06-07 ┆ 0         ┆ … ┆ 10883     ┆ 1         ┆ 24.0     ┆ 156    │\n",
       "│            ┆            ┆ 07:50:02.5 ┆           ┆   ┆           ┆           ┆          ┆        │\n",
       "│            ┆            ┆ 49         ┆           ┆   ┆           ┆           ┆          ┆        │\n",
       "│ 5171603    ┆ 2024-06-13 ┆ 2024-06-13 ┆ 0         ┆ … ┆ 3769      ┆ 1         ┆ 24.0     ┆ 146    │\n",
       "│            ┆            ┆ 17:56:44.4 ┆           ┆   ┆           ┆           ┆          ┆        │\n",
       "│            ┆            ┆ 77         ┆           ┆   ┆           ┆           ┆          ┆        │\n",
       "│ 5171698    ┆ 2024-06-11 ┆ 2024-06-11 ┆ 0         ┆ … ┆ 37323     ┆ 1         ┆ 24.0     ┆ 51     │\n",
       "│            ┆            ┆ 03:05:21.3 ┆           ┆   ┆           ┆           ┆          ┆        │\n",
       "│            ┆            ┆ 61         ┆           ┆   ┆           ┆           ┆          ┆        │\n",
       "└────────────┴────────────┴────────────┴───────────┴───┴───────────┴───────────┴──────────┴────────┘"
      ]
     },
     "execution_count": 28,
     "metadata": {},
     "output_type": "execute_result"
    }
   ],
   "source": [
    "products_mini_2 = products.select(['partnumber', 'family'])\n",
    "train_concat_2 = train.join(products_mini_2, on='partnumber', how='inner')\n",
    "train_concat_2"
   ]
  },
  {
   "cell_type": "code",
   "execution_count": 29,
   "metadata": {},
   "outputs": [
    {
     "name": "stdout",
     "output_type": "stream",
     "text": [
      "Q7 Result: [{'family': 1, 'most_frequent_pagetype': 24}, {'family': 2, 'most_frequent_pagetype': 24}, {'family': 3, 'most_frequent_pagetype': 24}, {'family': 4, 'most_frequent_pagetype': 24}, {'family': 5, 'most_frequent_pagetype': 24}, {'family': 6, 'most_frequent_pagetype': 24}, {'family': 7, 'most_frequent_pagetype': 24}, {'family': 8, 'most_frequent_pagetype': 24}, {'family': 9, 'most_frequent_pagetype': 24}, {'family': 10, 'most_frequent_pagetype': 24}, {'family': 11, 'most_frequent_pagetype': 24}, {'family': 12, 'most_frequent_pagetype': 24}, {'family': 13, 'most_frequent_pagetype': 24}, {'family': 14, 'most_frequent_pagetype': 24}, {'family': 15, 'most_frequent_pagetype': 24}, {'family': 16, 'most_frequent_pagetype': 24}, {'family': 17, 'most_frequent_pagetype': 24}, {'family': 18, 'most_frequent_pagetype': 24}, {'family': 19, 'most_frequent_pagetype': 24}, {'family': 21, 'most_frequent_pagetype': 24}, {'family': 22, 'most_frequent_pagetype': 24}, {'family': 23, 'most_frequent_pagetype': 24}, {'family': 24, 'most_frequent_pagetype': 24}, {'family': 26, 'most_frequent_pagetype': 24}, {'family': 27, 'most_frequent_pagetype': 24}, {'family': 28, 'most_frequent_pagetype': 24}, {'family': 29, 'most_frequent_pagetype': 24}, {'family': 30, 'most_frequent_pagetype': 24}, {'family': 31, 'most_frequent_pagetype': 24}, {'family': 32, 'most_frequent_pagetype': 24}, {'family': 33, 'most_frequent_pagetype': 24}, {'family': 34, 'most_frequent_pagetype': 24}, {'family': 35, 'most_frequent_pagetype': 24}, {'family': 36, 'most_frequent_pagetype': 24}, {'family': 37, 'most_frequent_pagetype': 24}, {'family': 38, 'most_frequent_pagetype': 24}, {'family': 40, 'most_frequent_pagetype': 24}, {'family': 41, 'most_frequent_pagetype': 24}, {'family': 42, 'most_frequent_pagetype': 24}, {'family': 43, 'most_frequent_pagetype': 24}, {'family': 44, 'most_frequent_pagetype': 24}, {'family': 45, 'most_frequent_pagetype': 24}, {'family': 46, 'most_frequent_pagetype': 24}, {'family': 47, 'most_frequent_pagetype': 24}, {'family': 48, 'most_frequent_pagetype': 24}, {'family': 49, 'most_frequent_pagetype': 24}, {'family': 50, 'most_frequent_pagetype': 24}, {'family': 51, 'most_frequent_pagetype': 24}, {'family': 52, 'most_frequent_pagetype': 24}, {'family': 53, 'most_frequent_pagetype': 24}, {'family': 54, 'most_frequent_pagetype': 24}, {'family': 56, 'most_frequent_pagetype': 24}, {'family': 57, 'most_frequent_pagetype': 24}, {'family': 58, 'most_frequent_pagetype': 24}, {'family': 59, 'most_frequent_pagetype': 24}, {'family': 60, 'most_frequent_pagetype': 24}, {'family': 61, 'most_frequent_pagetype': 24}, {'family': 62, 'most_frequent_pagetype': 24}, {'family': 63, 'most_frequent_pagetype': 24}, {'family': 64, 'most_frequent_pagetype': 24}, {'family': 65, 'most_frequent_pagetype': 24}, {'family': 66, 'most_frequent_pagetype': 24}, {'family': 67, 'most_frequent_pagetype': 24}, {'family': 68, 'most_frequent_pagetype': 24}, {'family': 69, 'most_frequent_pagetype': 24}, {'family': 70, 'most_frequent_pagetype': 24}, {'family': 71, 'most_frequent_pagetype': 24}, {'family': 72, 'most_frequent_pagetype': 24}, {'family': 73, 'most_frequent_pagetype': 24}, {'family': 74, 'most_frequent_pagetype': 24}, {'family': 75, 'most_frequent_pagetype': 24}, {'family': 76, 'most_frequent_pagetype': 24}, {'family': 77, 'most_frequent_pagetype': 24}, {'family': 78, 'most_frequent_pagetype': 24}, {'family': 79, 'most_frequent_pagetype': 24}, {'family': 81, 'most_frequent_pagetype': 24}, {'family': 82, 'most_frequent_pagetype': 24}, {'family': 83, 'most_frequent_pagetype': 24}, {'family': 84, 'most_frequent_pagetype': 24}, {'family': 85, 'most_frequent_pagetype': 24}, {'family': 86, 'most_frequent_pagetype': 24}, {'family': 87, 'most_frequent_pagetype': 24}, {'family': 88, 'most_frequent_pagetype': 24}, {'family': 89, 'most_frequent_pagetype': 24}, {'family': 90, 'most_frequent_pagetype': 24}, {'family': 91, 'most_frequent_pagetype': 24}, {'family': 92, 'most_frequent_pagetype': 24}, {'family': 93, 'most_frequent_pagetype': 24}, {'family': 94, 'most_frequent_pagetype': 24}, {'family': 95, 'most_frequent_pagetype': 24}, {'family': 96, 'most_frequent_pagetype': 24}, {'family': 97, 'most_frequent_pagetype': 24}, {'family': 99, 'most_frequent_pagetype': 24}, {'family': 100, 'most_frequent_pagetype': 24}, {'family': 101, 'most_frequent_pagetype': 24}, {'family': 102, 'most_frequent_pagetype': 24}, {'family': 103, 'most_frequent_pagetype': 24}, {'family': 104, 'most_frequent_pagetype': 24}, {'family': 105, 'most_frequent_pagetype': 24}, {'family': 106, 'most_frequent_pagetype': 24}, {'family': 107, 'most_frequent_pagetype': 24}, {'family': 108, 'most_frequent_pagetype': 24}, {'family': 109, 'most_frequent_pagetype': 24}, {'family': 110, 'most_frequent_pagetype': 24}, {'family': 111, 'most_frequent_pagetype': 24}, {'family': 112, 'most_frequent_pagetype': 24}, {'family': 113, 'most_frequent_pagetype': 24}, {'family': 114, 'most_frequent_pagetype': 24}, {'family': 115, 'most_frequent_pagetype': 24}, {'family': 116, 'most_frequent_pagetype': 24}, {'family': 117, 'most_frequent_pagetype': 24}, {'family': 118, 'most_frequent_pagetype': 24}, {'family': 119, 'most_frequent_pagetype': 24}, {'family': 120, 'most_frequent_pagetype': 24}, {'family': 121, 'most_frequent_pagetype': 24}, {'family': 122, 'most_frequent_pagetype': 24}, {'family': 123, 'most_frequent_pagetype': 24}, {'family': 124, 'most_frequent_pagetype': 24}, {'family': 125, 'most_frequent_pagetype': 24}, {'family': 126, 'most_frequent_pagetype': 24}, {'family': 127, 'most_frequent_pagetype': 24}, {'family': 128, 'most_frequent_pagetype': 24}, {'family': 129, 'most_frequent_pagetype': 24}, {'family': 130, 'most_frequent_pagetype': 24}, {'family': 131, 'most_frequent_pagetype': 24}, {'family': 132, 'most_frequent_pagetype': 24}, {'family': 133, 'most_frequent_pagetype': 24}, {'family': 134, 'most_frequent_pagetype': 24}, {'family': 135, 'most_frequent_pagetype': 24}, {'family': 136, 'most_frequent_pagetype': 24}, {'family': 137, 'most_frequent_pagetype': 24}, {'family': 138, 'most_frequent_pagetype': 24}, {'family': 139, 'most_frequent_pagetype': 24}, {'family': 140, 'most_frequent_pagetype': 24}, {'family': 141, 'most_frequent_pagetype': 24}, {'family': 142, 'most_frequent_pagetype': 24}, {'family': 143, 'most_frequent_pagetype': 24}, {'family': 144, 'most_frequent_pagetype': 24}, {'family': 145, 'most_frequent_pagetype': 24}, {'family': 146, 'most_frequent_pagetype': 24}, {'family': 147, 'most_frequent_pagetype': 24}, {'family': 148, 'most_frequent_pagetype': 24}, {'family': 149, 'most_frequent_pagetype': 24}, {'family': 150, 'most_frequent_pagetype': 24}, {'family': 151, 'most_frequent_pagetype': 24}, {'family': 152, 'most_frequent_pagetype': 24}, {'family': 153, 'most_frequent_pagetype': 24}, {'family': 154, 'most_frequent_pagetype': 24}, {'family': 155, 'most_frequent_pagetype': 24}, {'family': 156, 'most_frequent_pagetype': 24}, {'family': 157, 'most_frequent_pagetype': 24}, {'family': 158, 'most_frequent_pagetype': 24}, {'family': 159, 'most_frequent_pagetype': 24}, {'family': 160, 'most_frequent_pagetype': 24}, {'family': 161, 'most_frequent_pagetype': 24}, {'family': 162, 'most_frequent_pagetype': 24}, {'family': 163, 'most_frequent_pagetype': 24}, {'family': 164, 'most_frequent_pagetype': 24}, {'family': 165, 'most_frequent_pagetype': 24}, {'family': 166, 'most_frequent_pagetype': 24}, {'family': 167, 'most_frequent_pagetype': 24}, {'family': 168, 'most_frequent_pagetype': 24}, {'family': 169, 'most_frequent_pagetype': 24}, {'family': 170, 'most_frequent_pagetype': 24}, {'family': 171, 'most_frequent_pagetype': 24}, {'family': 172, 'most_frequent_pagetype': 24}, {'family': 173, 'most_frequent_pagetype': 24}, {'family': 174, 'most_frequent_pagetype': 24}, {'family': 175, 'most_frequent_pagetype': 24}, {'family': 177, 'most_frequent_pagetype': 24}, {'family': 179, 'most_frequent_pagetype': 24}, {'family': 180, 'most_frequent_pagetype': 24}, {'family': 181, 'most_frequent_pagetype': 24}, {'family': 182, 'most_frequent_pagetype': 24}, {'family': 183, 'most_frequent_pagetype': 24}, {'family': 184, 'most_frequent_pagetype': 24}, {'family': 185, 'most_frequent_pagetype': 24}, {'family': 186, 'most_frequent_pagetype': 24}, {'family': 187, 'most_frequent_pagetype': 24}, {'family': 188, 'most_frequent_pagetype': 24}, {'family': 189, 'most_frequent_pagetype': 24}, {'family': 190, 'most_frequent_pagetype': 24}, {'family': 191, 'most_frequent_pagetype': 24}, {'family': 192, 'most_frequent_pagetype': 24}, {'family': 193, 'most_frequent_pagetype': 24}, {'family': 194, 'most_frequent_pagetype': 24}, {'family': 195, 'most_frequent_pagetype': 24}, {'family': 196, 'most_frequent_pagetype': 24}, {'family': 197, 'most_frequent_pagetype': 24}, {'family': 199, 'most_frequent_pagetype': 24}, {'family': 200, 'most_frequent_pagetype': 24}, {'family': 201, 'most_frequent_pagetype': 24}, {'family': 202, 'most_frequent_pagetype': 24}, {'family': 203, 'most_frequent_pagetype': 24}, {'family': 205, 'most_frequent_pagetype': 24}, {'family': 206, 'most_frequent_pagetype': 24}, {'family': 207, 'most_frequent_pagetype': 24}, {'family': 208, 'most_frequent_pagetype': 19}, {'family': 209, 'most_frequent_pagetype': 24}, {'family': 210, 'most_frequent_pagetype': 24}, {'family': 211, 'most_frequent_pagetype': 24}, {'family': 214, 'most_frequent_pagetype': 24}]\n"
     ]
    }
   ],
   "source": [
    "from datetime import datetime\n",
    "\n",
    "# Filtrar interacciones de los primeros 7 días de junio\n",
    "result_q7 = (\n",
    "    train_concat_2\n",
    "    .filter(\n",
    "        (pl.col(\"add_to_cart\") == 1) &\n",
    "        (pl.col(\"date\").str.strptime(pl.Date, format=\"%Y-%m-%d\") >= datetime(2024, 6, 1)) &\n",
    "        (pl.col(\"date\").str.strptime(pl.Date, format=\"%Y-%m-%d\") <= datetime(2024, 6, 7))\n",
    "    )\n",
    "    .group_by([\"family\", \"pagetype\"])\n",
    "    .agg([pl.len().alias('count')])\n",
    "    .sort([\"family\", \"count\", \"pagetype\"], descending=[False, True, False])\n",
    "    .group_by(\"family\")\n",
    "    .agg(pl.first(\"pagetype\").alias(\"most_frequent_pagetype\"))\n",
    "    .to_dicts()\n",
    ")\n",
    "for d in result_q7:\n",
    "    for k in d:\n",
    "        d[k] = int(d[k])\n",
    "\n",
    "print(\"Q7 Result:\", result_q7)"
   ]
  },
  {
   "cell_type": "code",
   "execution_count": 30,
   "metadata": {},
   "outputs": [
    {
     "name": "stdout",
     "output_type": "stream",
     "text": [
      "shape: (38, 2)\n",
      "┌──────────┬─────────────┐\n",
      "│ pagetype ┆ n_pagetypes │\n",
      "│ ---      ┆ ---         │\n",
      "│ f64      ┆ u32         │\n",
      "╞══════════╪═════════════╡\n",
      "│ 24.0     ┆ 46256324    │\n",
      "│ 8.0      ┆ 129640      │\n",
      "│ 6.0      ┆ 113491      │\n",
      "│ 19.0     ┆ 19534       │\n",
      "│ 16.0     ┆ 15359       │\n",
      "│ …        ┆ …           │\n",
      "│ 33.0     ┆ 1           │\n",
      "│ 27.0     ┆ 1           │\n",
      "│ 4.0      ┆ 1           │\n",
      "│ 30.0     ┆ 1           │\n",
      "│ 35.0     ┆ 1           │\n",
      "└──────────┴─────────────┘\n"
     ]
    }
   ],
   "source": [
    "query = (\n",
    "    train_concat_2\n",
    "    .group_by('pagetype')\n",
    "    .agg(pl.len().alias('n_pagetypes'))\n",
    "    .sort('n_pagetypes', descending=True)\n",
    ")\n",
    "print(query)"
   ]
  },
  {
   "cell_type": "markdown",
   "metadata": {},
   "source": [
    "Normal que salga todo el 24"
   ]
  },
  {
   "cell_type": "code",
   "execution_count": 39,
   "metadata": {},
   "outputs": [],
   "source": [
    "import json\n",
    "with open('../../predictions/example_predictions_test.json', 'w') as file:\n",
    "    res = {}\n",
    "    for d in result_q7:\n",
    "        res[int(d['family'])] = int(d['most_frequent_pagetype'])\n",
    "    json.dump(res, file, indent=4)"
   ]
  }
 ],
 "metadata": {
  "kernelspec": {
   "display_name": "venv",
   "language": "python",
   "name": "python3"
  },
  "language_info": {
   "codemirror_mode": {
    "name": "ipython",
    "version": 3
   },
   "file_extension": ".py",
   "mimetype": "text/x-python",
   "name": "python",
   "nbconvert_exporter": "python",
   "pygments_lexer": "ipython3",
   "version": "3.12.3"
  }
 },
 "nbformat": 4,
 "nbformat_minor": 2
}
